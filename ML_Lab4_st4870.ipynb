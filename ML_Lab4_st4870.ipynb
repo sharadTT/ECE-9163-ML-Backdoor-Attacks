{
 "cells": [
  {
   "cell_type": "code",
   "execution_count": 16,
   "metadata": {
    "colab": {
     "base_uri": "https://localhost:8080/"
    },
    "editable": true,
    "id": "u28e405pwxYh",
    "outputId": "7d46303e-30a2-4ece-f6fb-e5e83dc584d2",
    "slideshow": {
     "slide_type": ""
    },
    "tags": []
   },
   "outputs": [],
   "source": [
    "import h5py\n",
    "import keras\n",
    "import numpy as np\n",
    "from tqdm import tqdm\n",
    "import tensorflow as tf\n",
    "import matplotlib.pyplot as plt"
   ]
  },
  {
   "cell_type": "code",
   "execution_count": 17,
   "metadata": {
    "colab": {
     "base_uri": "https://localhost:8080/"
    },
    "editable": true,
    "id": "XqdnEITJCrSx",
    "outputId": "7cb8f3f9-d205-4434-875b-66cc6c1a5467",
    "slideshow": {
     "slide_type": ""
    },
    "tags": []
   },
   "outputs": [
    {
     "name": "stdout",
     "output_type": "stream",
     "text": [
      "361/361 [==============================] - 7s 19ms/step\n",
      "Clean Classification accuracy: 98.64899974019225\n",
      "361/361 [==============================] - 7s 19ms/step\n",
      "Attack Success Rate: 100.0\n"
     ]
    }
   ],
   "source": [
    "def data_loader(filepath):\n",
    "    data = h5py.File(filepath, 'r')\n",
    "    x_data = np.array(data['data'])\n",
    "    y_data = np.array(data['label'])\n",
    "    x_data = x_data.transpose((0,2,3,1))\n",
    "    return x_data, y_data\n",
    "\n",
    "clean_data_file = './data/cl/valid.h5'\n",
    "poisoned_data_file = './data/bd/bd_valid.h5'\n",
    "model_file = './model/bd_net.h5'\n",
    "\n",
    "clean_x_test, clean_y_test = data_loader(clean_data_file)\n",
    "bad_x_test, bad_y_test = data_loader(poisoned_data_file)\n",
    "bad_model = keras.models.load_model(model_file)\n",
    "\n",
    "clean_label_p = np.argmax(bad_model.predict(clean_x_test), axis=1)\n",
    "clean_classification_accuracy = np.mean(np.equal(clean_label_p, clean_y_test))*100\n",
    "print('Clean Classification accuracy:', clean_classification_accuracy)\n",
    "\n",
    "bad_label_p = np.argmax(bad_model.predict(bad_x_test), axis=1)\n",
    "attack_success_rate = np.mean(np.equal(bad_label_p, bad_y_test))*100\n",
    "print('Attack Success Rate:', attack_success_rate)"
   ]
  },
  {
   "cell_type": "markdown",
   "metadata": {
    "editable": true,
    "id": "qFdLRAPYglEo",
    "slideshow": {
     "slide_type": ""
    },
    "tags": []
   },
   "source": [
    "### Visualizing data"
   ]
  },
  {
   "cell_type": "code",
   "execution_count": null,
   "metadata": {
    "colab": {
     "base_uri": "https://localhost:8080/",
     "height": 407
    },
    "editable": true,
    "id": "zumOHQ0TkOoX",
    "outputId": "f58d1699-4b64-425f-f667-fdcc26bf8bb1",
    "slideshow": {
     "slide_type": ""
    },
    "tags": []
   },
   "outputs": [],
   "source": [
    "rows, cols = 3, 3\n",
    "fig, axes = plt.subplots(rows, cols, figsize=(5, 4))\n",
    "axes = axes.flatten()\n",
    "\n",
    "for i in range(rows * cols):\n",
    "    ax = axes[i]\n",
    "    ax.imshow(clean_x_test[i]/255)\n",
    "    ax.set_title(f\"Label: {clean_y_test[i]}\", fontsize = 10)\n",
    "    ax.axis(\"off\")\n",
    "\n",
    "plt.tight_layout()\n",
    "plt.show()"
   ]
  },
  {
   "cell_type": "code",
   "execution_count": null,
   "metadata": {
    "colab": {
     "base_uri": "https://localhost:8080/",
     "height": 407
    },
    "id": "r2kh6VKdSFRO",
    "outputId": "65a3e0af-81f7-405f-a23e-9481f3fad2a2"
   },
   "outputs": [],
   "source": [
    "rows, cols = 3, 3\n",
    "fig, axes = plt.subplots(rows, cols, figsize=(5, 4))\n",
    "axes = axes.flatten()\n",
    "\n",
    "for i in range(rows * cols):\n",
    "    ax = axes[i]\n",
    "    ax.imshow(bad_x_test[i]/255)\n",
    "    ax.set_title(f\"Label: {bad_y_test[i]}\", fontsize = 10)\n",
    "    ax.axis(\"off\")\n",
    "\n",
    "plt.tight_layout()\n",
    "plt.show()"
   ]
  },
  {
   "cell_type": "markdown",
   "metadata": {
    "editable": true,
    "id": "JMwdj-GVathV",
    "slideshow": {
     "slide_type": ""
    },
    "tags": []
   },
   "source": [
    "### Pruning Defense\n",
    "The basic concept involves trimming the neural network and evaluating its performance in comparison to the original network to identify any discrepancies caused by the existence of a backdoor. It is important to note that backdoors activate unused or redundant neurons in the network.\n",
    "\n",
    "The pruning defense operates in the following manner: the defender applies the received deep neural network (DNN) from the attacker to clean inputs from the validation dataset, Dvalid, and records the average activation of each neuron. Subsequently, the defender systematically prunes neurons from the DNN in increasing order of average activations, while noting the accuracy of the pruned network at each iteration. The defense concludes when the accuracy on the validation dataset falls below a predetermined threshold."
   ]
  },
  {
   "cell_type": "code",
   "execution_count": null,
   "metadata": {
    "editable": true,
    "id": "oGCCLtY0TtNX",
    "slideshow": {
     "slide_type": ""
    },
    "tags": []
   },
   "outputs": [],
   "source": [
    "model_weights = './model/bd_weights.h5'\n",
    "bad_model.load_weights(model_weights)\n",
    "\n",
    "cloned_model= keras.models.clone_model(bad_model)\n",
    "cloned_model.set_weights(bad_model.get_weights())"
   ]
  },
  {
   "cell_type": "markdown",
   "metadata": {
    "editable": true,
    "id": "KfJ4YMkUCqF2",
    "slideshow": {
     "slide_type": ""
    },
    "tags": []
   },
   "source": [
    "'sorted_channels' contains the indices of the channels of the 'pool_3' layer sorted in increasing order of their mean activation values"
   ]
  },
  {
   "cell_type": "code",
   "execution_count": null,
   "metadata": {
    "colab": {
     "base_uri": "https://localhost:8080/"
    },
    "id": "arFDijT5rfmK",
    "outputId": "3d3fbeae-2233-4a07-be31-90f963f561a4"
   },
   "outputs": [],
   "source": [
    "clean_accuracy=98.64899974019225\n",
    "\n",
    "pooling_layer = cloned_model.get_layer('pool_3').output\n",
    "intermediate_model = keras.models.Model(inputs=cloned_model.input, outputs=pooling_layer) #create a new intermediate model that takes same input as\n",
    "#cloned_model but has output as pooling layer\n",
    "intermediate_predictions = intermediate_model.predict(clean_x_test)\n",
    "\n",
    "# get average activation values\n",
    "average_activations = np.mean(intermediate_predictions, axis=(0, 1, 2))\n",
    "sorted_channels = np.argsort(average_activations)\n",
    "\n",
    "pruned_clean_accuracies = []\n",
    "attack_success_rates = []\n",
    "pruning_degree=[]\n",
    "saved_models = np.zeros(3, dtype=bool)\n",
    "pruned_weights = cloned_model.layers[5].get_weights()[0]\n",
    "pruned_biases = cloned_model.layers[5].get_weights()[1]\n",
    "\n",
    "for pruned_channel_index in tqdm(sorted_channels):\n",
    "    # Prune the channel\n",
    "    # pruned_weights, pruned_biases = cloned_model.get_layer('pool_3').get_weights()\n",
    "    pruned_weights[:, :, :, pruned_channel_index] = 0\n",
    "    pruned_biases[pruned_channel_index] = 0\n",
    "    cloned_model.layers[5].set_weights([pruned_weights, pruned_biases])\n",
    "\n",
    "    # Evaluate clean accuracy\n",
    "    pruned_clean_predictions = cloned_model.predict(clean_x_test)\n",
    "    pruned_clean_labels = np.argmax(pruned_clean_predictions, axis=1)\n",
    "    pruned_clean_accuracy = np.mean(np.equal(pruned_clean_labels, clean_y_test)) * 100\n",
    "\n",
    "    # Check for accuracy drop and save the model\n",
    "    for i, accuracy_drop_threshold in enumerate([2, 4, 10]):\n",
    "        if (clean_accuracy - pruned_clean_accuracy >= accuracy_drop_threshold and not saved_models[i]):\n",
    "            print(f\"The accuracy drops at least {accuracy_drop_threshold}%, saved the model\")\n",
    "            cloned_model.save(f'model_X={accuracy_drop_threshold}.h5')\n",
    "            saved_models[i] = True\n",
    "\n",
    "    # Append results\n",
    "    pruned_clean_accuracies.append(pruned_clean_accuracy)\n",
    "    attack_success_rate = np.mean(np.equal(np.argmax(cloned_model.predict(bad_x_test), axis=1), bad_y_test)) * 100\n",
    "    attack_success_rates.append(attack_success_rate)\n",
    "    pruning_degree.append(pruned_channel_index)\n",
    "\n",
    "    # Print results\n",
    "    print()\n",
    "    print(\"The pruned clean accuracy is: \", pruned_clean_accuracy)\n",
    "    print(\"The attack success rate is: \", attack_success_rate)\n",
    "    print(\"The pruned channel index is: \", pruned_channel_index)\n",
    "\n",
    "    # Clear the Keras session\n",
    "    keras.backend.clear_session()"
   ]
  },
  {
   "cell_type": "code",
   "execution_count": null,
   "metadata": {},
   "outputs": [],
   "source": [
    "plt.figure(figsize=(10, 6))\n",
    "\n",
    "plt.plot(pruning_degree, pruned_clean_accuracies, marker='o', label='Clean Data Accuracies')\n",
    "plt.plot(pruning_degree, attack_success_rates, marker='x', color='red', label='Attack Success Rates')\n",
    "\n",
    "plt.title('Clean Data Accuracies and Attack Success Rates vs. Degree of Pruning')\n",
    "plt.xlabel('Degree of Pruning')\n",
    "plt.ylabel('Percentage')\n",
    "plt.legend()\n",
    "plt.grid(True)\n",
    "plt.show()"
   ]
  },
  {
   "cell_type": "code",
   "execution_count": null,
   "metadata": {},
   "outputs": [],
   "source": [
    "x_axis = np.arange(1,61)/60\n",
    "plt.plot(x_axis,pruned_clean_accuracies)\n",
    "plt.plot(x_axis,attack_success_rates)\n",
    "plt.legend(['clean accuracy','attack success rate'])\n",
    "plt.xlabel(\"fraction of pruned channels\")\n",
    "plt.ylabel(\"rate\")\n",
    "plt.title(\"Accuracy and attack success rate for validation dataset\")"
   ]
  },
  {
   "cell_type": "markdown",
   "metadata": {},
   "source": [
    "## BadNet + GoodNet\n",
    "Now that we have our goodnet, we can combine it with the badnet and check predictions. "
   ]
  },
  {
   "cell_type": "code",
   "execution_count": null,
   "metadata": {},
   "outputs": [],
   "source": [
    "clean_test_filename = './data/cl/test.h5'\n",
    "poisoned_test_filename = './data/bd/bd_test.h5'"
   ]
  },
  {
   "cell_type": "code",
   "execution_count": null,
   "metadata": {},
   "outputs": [],
   "source": [
    "clean_x_test, clean_y_test = data_loader(clean_test_filename)\n",
    "bad_x_test, bad_y_test = data_loader(poisoned_test_filename)"
   ]
  },
  {
   "cell_type": "code",
   "execution_count": null,
   "metadata": {},
   "outputs": [],
   "source": [
    "# file paths \n",
    "drop_10 = './model_X=10.h5'\n",
    "drop_4 = './model_X=2.h5'\n",
    "drop_2 = './model_X=4.h5'\n",
    "# load models\n",
    "model_drop_10 = keras.models.load_model(drop_10)\n",
    "model_drop_4 = keras.models.load_model(drop_4)\n",
    "model_drop_2 = keras.models.load_model(drop_2)"
   ]
  },
  {
   "cell_type": "code",
   "execution_count": null,
   "metadata": {},
   "outputs": [],
   "source": [
    "print(len(set(clean_y_test)))"
   ]
  },
  {
   "cell_type": "markdown",
   "metadata": {},
   "source": [
    "The dataset has 1283 different classes, therefore we will keep N+1 as 1284"
   ]
  },
  {
   "cell_type": "markdown",
   "metadata": {},
   "source": [
    "### Get Goodnet Predictions\n",
    "Pass as arguments the BadNet, Pruned models with X={2,4,10}% and clean test data"
   ]
  },
  {
   "cell_type": "code",
   "execution_count": null,
   "metadata": {
    "editable": true,
    "slideshow": {
     "slide_type": ""
    },
    "tags": []
   },
   "outputs": [],
   "source": [
    "def predict_combined(model1,model2,data):\n",
    "    #get predictions\n",
    "    pred_model1= np.argmax(model1(data), axis=1)\n",
    "    pred_model2= np.argmax(model2(data), axis=1)\n",
    "    predictions = np.zeros(data.shape[0])\n",
    "    for i in range(data.shape[0]):\n",
    "        if pred_model1[i]==pred_model2[i]:\n",
    "          predictions[i] = pred_model1[i]\n",
    "        else:\n",
    "          predictions[i] = 1284\n",
    "    return predictions\n"
   ]
  },
  {
   "cell_type": "markdown",
   "metadata": {},
   "source": [
    "### Get Goodnet Accuracy and Attack Success Rate "
   ]
  },
  {
   "cell_type": "code",
   "execution_count": null,
   "metadata": {},
   "outputs": [],
   "source": [
    "def get_accuracy_and_asr(goodnet):\n",
    "    # to get accuracy predict on clean data\n",
    "    goodnet_cl_pred = predict_combined(bad_model,goodnet,clean_x_test)\n",
    "    accuracy = np.mean(np.equal(goodnet_cl_pred, clean_y_test))*100\n",
    "\n",
    "    # to get asr predict on adverserial data\n",
    "    goodnet_bd_pred = predict_combined(bad_model,goodnet,bad_x_test)\n",
    "    asr = np.mean(np.equal(goodnet_bd_pred, bad_y_test))*100\n",
    "\n",
    "    return accuracy,asr"
   ]
  },
  {
   "cell_type": "markdown",
   "metadata": {},
   "source": [
    "### Test Goodness of GoodNets"
   ]
  },
  {
   "cell_type": "code",
   "execution_count": null,
   "metadata": {},
   "outputs": [],
   "source": [
    "g_accuracy_10, g_asr_10 = get_accuracy_and_asr(model_drop_10)\n",
    "print(f'Goodnet with 10% drop in accuracy has accuracy {g_accuracy_10} and attack success rate {g_asr_10}\\n\\n')\n",
    "\n",
    "g_accuracy_4, g_asr_4 = get_accuracy_and_asr(model_drop_4)\n",
    "print(f'Goodnet with 4% drop in accuracy has accuracy {g_accuracy_4} and attack success rate {g_asr_4}\\n\\n')\n",
    "\n",
    "g_accuracy_2, g_asr_2 = get_accuracy_and_asr(model_drop_2)\n",
    "print(f'Goodnet with 2% drop in accuracy has accuracy {g_accuracy_2} and attack success rate {g_asr_2}\\n\\n')"
   ]
  },
  {
   "cell_type": "markdown",
   "metadata": {},
   "source": [
    "### Comparing Pruned Models and GoodNet Models\n",
    "In this section we are conducting a thorough comparison of both the accuracy levels and attack success rates between our pruned models with a specified X% drop in accuracy and our consolidated GoodNets."
   ]
  },
  {
   "cell_type": "code",
   "execution_count": null,
   "metadata": {},
   "outputs": [],
   "source": [
    "def get_accuracy_and_asr_pruned(model):\n",
    "    pruned_cl_pred = np.argmax(model.predict(clean_x_test), axis=1)\n",
    "    accuracy = np.mean(np.equal(pruned_cl_pred, clean_y_test))*100\n",
    "\n",
    "    pruned_bd_pred = np.argmax(model.predict(bad_x_test), axis=1)\n",
    "    asr = np.mean(np.equal(pruned_bd_pred, bad_y_test))*100\n",
    "\n",
    "    return accuracy,asr"
   ]
  },
  {
   "cell_type": "code",
   "execution_count": null,
   "metadata": {},
   "outputs": [],
   "source": [
    "p_accuracy_10, p_asr_10 = get_accuracy_and_asr_pruned(model_drop_10)\n",
    "print(f'Pruned network with 10% drop in accuracy has accuracy {p_accuracy_10} and attack success rate {p_asr_10}\\n\\n')\n",
    "\n",
    "p_accuracy_4, p_asr_4 = get_accuracy_and_asr_pruned(model_drop_4)\n",
    "print(f'Pruned network with 4% drop in accuracy has accuracy {p_accuracy_4} and attack success rate {p_asr_4}\\n\\n')\n",
    "\n",
    "p_accuracy_2, p_asr_2 = get_accuracy_and_asr_pruned(model_drop_2)\n",
    "print(f'Pruned network with 2% drop in accuracy has accuracy {p_accuracy_2} and attack success rate {p_asr_2}\\n\\n')"
   ]
  },
  {
   "cell_type": "markdown",
   "metadata": {},
   "source": [
    "Therefore we see that our Goodnets perform comparable to the pruned models"
   ]
  },
  {
   "cell_type": "code",
   "execution_count": null,
   "metadata": {},
   "outputs": [],
   "source": []
  }
 ],
 "metadata": {
  "colab": {
   "provenance": []
  },
  "kernelspec": {
   "display_name": "Python 3 (ipykernel)",
   "language": "python",
   "name": "python3"
  },
  "language_info": {
   "codemirror_mode": {
    "name": "ipython",
    "version": 3
   },
   "file_extension": ".py",
   "mimetype": "text/x-python",
   "name": "python",
   "nbconvert_exporter": "python",
   "pygments_lexer": "ipython3",
   "version": "3.10.7"
  }
 },
 "nbformat": 4,
 "nbformat_minor": 4
}
